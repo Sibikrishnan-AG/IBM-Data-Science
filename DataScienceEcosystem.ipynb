{
 "cells": [
  {
   "cell_type": "markdown",
   "id": "7f48b5ca-aa02-4ac8-b12a-8981952d91b0",
   "metadata": {},
   "source": [
    "# Data Science Tools and Ecosystem"
   ]
  },
  {
   "cell_type": "markdown",
   "id": "0e0ed087-9832-4dfc-a829-e3e7ac868bc0",
   "metadata": {},
   "source": [
    "## In this notebook, Data Science Tools and Ecosystem are summarized."
   ]
  },
  {
   "cell_type": "markdown",
   "id": "6be0bbc8-f005-422e-92c4-e8d751e8d852",
   "metadata": {},
   "source": [
    "## **Objectives**:\n",
    "- List popular languages for Data Science\n",
    "- List commonly used libraries in Data Science\n",
    "- Arithmetic Expressions\n"
   ]
  },
  {
   "cell_type": "markdown",
   "id": "7c37eec5-88d5-4875-bc5c-a00745eca6a9",
   "metadata": {},
   "source": [
    "## Some of the popular languages that Data Scientists use are:\n",
    "- Python\n",
    "- R\n",
    "- Scala"
   ]
  },
  {
   "cell_type": "markdown",
   "id": "4685ad66-405d-4516-acf2-7dc559e01783",
   "metadata": {},
   "source": [
    "## Some of the commonly used libraries used by Data Scientists include:\n",
    "- matplotlib\n",
    "- numpy\n",
    "- Pandas\n",
    "- TensorFlow"
   ]
  },
  {
   "cell_type": "markdown",
   "id": "571a1594-0346-40a7-917e-06eb72b19cb4",
   "metadata": {},
   "source": [
    "| Data Science Tools |\n",
    "| -------------| \n",
    "| Jupyter Notebooks |\n",
    "| R Studios |\n",
    "| Zepplin Notebooks |"
   ]
  },
  {
   "cell_type": "markdown",
   "id": "12bb8586-5acb-4ae2-ae3c-60120d5bc719",
   "metadata": {},
   "source": [
    "### Below are a few examples of evaluating arithmetic expressions in Python\n"
   ]
  },
  {
   "cell_type": "code",
   "execution_count": 2,
   "id": "10c80401-44f5-4831-b5bc-bcd06153c809",
   "metadata": {
    "tags": []
   },
   "outputs": [
    {
     "data": {
      "text/plain": [
       "17"
      ]
     },
     "execution_count": 2,
     "metadata": {},
     "output_type": "execute_result"
    }
   ],
   "source": [
    "# This a simple arithmetic expression to mutiply then add integers\n",
    "(3*4)+5"
   ]
  },
  {
   "cell_type": "code",
   "execution_count": 4,
   "id": "19abee28-eafa-4be2-96f5-0b918e5dd60d",
   "metadata": {
    "tags": []
   },
   "outputs": [
    {
     "data": {
      "text/plain": [
       "3.3333333333333335"
      ]
     },
     "execution_count": 4,
     "metadata": {},
     "output_type": "execute_result"
    }
   ],
   "source": [
    "# This will convert 200 minutes to hours by diving by 60\n",
    "200/60"
   ]
  },
  {
   "cell_type": "markdown",
   "id": "b179cd86-8271-476a-b3f0-65916f2c86c7",
   "metadata": {},
   "source": [
    "## Author\n",
    "Sibikrishnan A.G.\n"
   ]
  }
 ],
 "metadata": {
  "kernelspec": {
   "display_name": "Python 3 (ipykernel)",
   "language": "python",
   "name": "python3"
  },
  "language_info": {
   "codemirror_mode": {
    "name": "ipython",
    "version": 3
   },
   "file_extension": ".py",
   "mimetype": "text/x-python",
   "name": "python",
   "nbconvert_exporter": "python",
   "pygments_lexer": "ipython3",
   "version": "3.11.5"
  }
 },
 "nbformat": 4,
 "nbformat_minor": 5
}
